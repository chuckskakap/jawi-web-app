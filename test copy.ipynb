{
 "cells": [
  {
   "cell_type": "code",
   "execution_count": 17,
   "metadata": {},
   "outputs": [],
   "source": [
    "import gradio as gr\n",
    "import tensorflow as tf\n",
    "import pickle\n",
    "import keras_nlp"
   ]
  },
  {
   "cell_type": "code",
   "execution_count": 18,
   "metadata": {},
   "outputs": [
    {
     "name": "stdout",
     "output_type": "stream",
     "text": [
      "2.14.1\n"
     ]
    }
   ],
   "source": [
    "import tensorflow as tf\n",
    "print(tf.__version__)"
   ]
  },
  {
   "cell_type": "code",
   "execution_count": 19,
   "metadata": {},
   "outputs": [
    {
     "name": "stdout",
     "output_type": "stream",
     "text": [
      "2.14.1\n"
     ]
    }
   ],
   "source": [
    "import tensorflow as tf\n",
    "print(tf.version.VERSION)"
   ]
  },
  {
   "cell_type": "code",
   "execution_count": 21,
   "metadata": {},
   "outputs": [],
   "source": [
    "MAX_SEQUENCE_LENGTH = 40\n"
   ]
  },
  {
   "cell_type": "code",
   "execution_count": 22,
   "metadata": {},
   "outputs": [],
   "source": [
    "# Load the model\n",
    "loaded_model = tf.keras.models.load_model(\"transformer_model\")\n",
    "\n",
    "# Load jw_vocab\n",
    "with open(\"jw_vocab.pkl\", \"rb\") as f:\n",
    "    jw_vocab = pickle.load(f)\n",
    "\n",
    "# Load rm_vocab\n",
    "with open(\"rm_vocab.pkl\", \"rb\") as f:\n",
    "    rm_vocab = pickle.load(f)\n",
    "\n",
    "# Load tokenizers\n",
    "jw_tokenizer = keras_nlp.tokenizers.WordPieceTokenizer(\n",
    "    vocabulary=jw_vocab, lowercase=False\n",
    ")\n",
    "rm_tokenizer = keras_nlp.tokenizers.WordPieceTokenizer(\n",
    "    vocabulary=rm_vocab, lowercase=False\n",
    ")"
   ]
  },
  {
   "cell_type": "code",
   "execution_count": 23,
   "metadata": {},
   "outputs": [],
   "source": [
    "def translate_text(input_text):\n",
    "    # Tokenize the input sentence\n",
    "    input_tokens = jw_tokenizer([input_text]).to_tensor(\n",
    "        shape=(None, MAX_SEQUENCE_LENGTH)\n",
    "    )\n",
    "\n",
    "    # Generate translation\n",
    "    translated_tokens = keras_nlp.samplers.GreedySampler()(\n",
    "        lambda prompt, cache, index: (\n",
    "            loaded_model([input_tokens, prompt])[:, index - 1, :],\n",
    "            None,\n",
    "            cache,\n",
    "        ),\n",
    "        prompt=tf.concat(\n",
    "            [\n",
    "                tf.fill(\n",
    "                    (tf.shape(input_tokens)[0], 1), rm_tokenizer.token_to_id(\"[START]\")\n",
    "                ),\n",
    "                tf.fill(\n",
    "                    (tf.shape(input_tokens)[0], MAX_SEQUENCE_LENGTH - 1),\n",
    "                    rm_tokenizer.token_to_id(\"[PAD]\"),\n",
    "                ),\n",
    "            ],\n",
    "            axis=-1,\n",
    "        ),\n",
    "        end_token_id=rm_tokenizer.token_to_id(\"[END]\"),\n",
    "        index=1,\n",
    "    )\n",
    "\n",
    "    # Detokenize the translated tokens\n",
    "    translated_text = rm_tokenizer.detokenize(translated_tokens)\n",
    "\n",
    "    return (\n",
    "        translated_text.numpy()[0]\n",
    "        .decode(\"utf-8\")\n",
    "        .replace(\"[PAD]\", \"\")\n",
    "        .replace(\"[START]\", \"\")\n",
    "        .replace(\"[END]\", \"\")\n",
    "        .strip()\n",
    "    )\n"
   ]
  },
  {
   "cell_type": "code",
   "execution_count": 26,
   "metadata": {},
   "outputs": [
    {
     "name": "stdout",
     "output_type": "stream",
     "text": [
      "Running on local URL:  http://127.0.0.1:7862\n",
      "\n",
      "To create a public link, set `share=True` in `launch()`.\n"
     ]
    },
    {
     "data": {
      "text/html": [
       "<div><iframe src=\"http://127.0.0.1:7862/\" width=\"100%\" height=\"500\" allow=\"autoplay; camera; microphone; clipboard-read; clipboard-write;\" frameborder=\"0\" allowfullscreen></iframe></div>"
      ],
      "text/plain": [
       "<IPython.core.display.HTML object>"
      ]
     },
     "metadata": {},
     "output_type": "display_data"
    },
    {
     "data": {
      "text/plain": []
     },
     "execution_count": 26,
     "metadata": {},
     "output_type": "execute_result"
    }
   ],
   "source": [
    "# Create Gradio Interface\n",
    "iface = gr.Interface(\n",
    "    fn=translate_text,\n",
    "    inputs=\"text\",\n",
    "    outputs=\"text\",\n",
    "    live=True,\n",
    "    title=\"Machine Transliteration\",\n",
    "    description=\"Translate Jawi  to Rumi script\",\n",
    ")\n",
    "\n",
    "# Launch Gradio Interface\n",
    "iface.launch()"
   ]
  },
  {
   "cell_type": "code",
   "execution_count": 28,
   "metadata": {},
   "outputs": [],
   "source": [
    "import streamlit as st\n",
    "import tensorflow as tf\n",
    "import pickle\n",
    "import keras_nlp\n",
    "\n",
    "MAX_SEQUENCE_LENGTH = 40"
   ]
  },
  {
   "cell_type": "code",
   "execution_count": 29,
   "metadata": {},
   "outputs": [],
   "source": [
    "# Load the model\n",
    "loaded_model = tf.keras.models.load_model(\"transformer_model\")\n",
    "\n",
    "# Load jw_vocab\n",
    "with open(\"jw_vocab.pkl\", \"rb\") as f:\n",
    "    jw_vocab = pickle.load(f)\n",
    "\n",
    "# Load rm_vocab\n",
    "with open(\"rm_vocab.pkl\", \"rb\") as f:\n",
    "    rm_vocab = pickle.load(f)\n",
    "\n",
    "# Load tokenizers\n",
    "jw_tokenizer = keras_nlp.tokenizers.WordPieceTokenizer(\n",
    "    vocabulary=jw_vocab, lowercase=False\n",
    ")\n",
    "rm_tokenizer = keras_nlp.tokenizers.WordPieceTokenizer(\n",
    "    vocabulary=rm_vocab, lowercase=False\n",
    ")"
   ]
  },
  {
   "cell_type": "code",
   "execution_count": 30,
   "metadata": {},
   "outputs": [],
   "source": [
    "def translate_text(input_text):\n",
    "    # Tokenize the input sentence\n",
    "    input_tokens = jw_tokenizer([input_text]).to_tensor(\n",
    "        shape=(None, MAX_SEQUENCE_LENGTH)\n",
    "    )\n",
    "\n",
    "    # Generate translation\n",
    "    translated_tokens = keras_nlp.samplers.GreedySampler()(\n",
    "        lambda prompt, cache, index: (\n",
    "            loaded_model([input_tokens, prompt])[:, index - 1, :],\n",
    "            None,\n",
    "            cache,\n",
    "        ),\n",
    "        prompt=tf.concat(\n",
    "            [\n",
    "                tf.fill(\n",
    "                    (tf.shape(input_tokens)[0], 1), rm_tokenizer.token_to_id(\"[START]\")\n",
    "                ),\n",
    "                tf.fill(\n",
    "                    (tf.shape(input_tokens)[0], MAX_SEQUENCE_LENGTH - 1),\n",
    "                    rm_tokenizer.token_to_id(\"[PAD]\"),\n",
    "                ),\n",
    "            ],\n",
    "            axis=-1,\n",
    "        ),\n",
    "        end_token_id=rm_tokenizer.token_to_id(\"[END]\"),\n",
    "        index=1,\n",
    "    )\n",
    "\n",
    "    # Detokenize the translated tokens\n",
    "    translated_text = rm_tokenizer.detokenize(translated_tokens)\n",
    "\n",
    "    return (\n",
    "        translated_text.numpy()[0]\n",
    "        .decode(\"utf-8\")\n",
    "        .replace(\"[PAD]\", \"\")\n",
    "        .replace(\"[START]\", \"\")\n",
    "        .replace(\"[END]\", \"\")\n",
    "        .strip()\n",
    "    )"
   ]
  },
  {
   "cell_type": "code",
   "execution_count": 31,
   "metadata": {},
   "outputs": [],
   "source": [
    "# Add your logo\n",
    "logo_url = \"https://static.wixstatic.com/media/a82f81_ee5d3c423b80433eaac59bb71b2bba16~mv2.png\"  # Replace with the URL of your logo\n",
    "st.image(logo_url, width=100)  # Adjust width as needed\n",
    "# Streamlit app\n",
    "st.title(\"Deep Learning for Classical Malay Text Transliteration\")\n",
    "\n",
    "# Input text box\n",
    "input_text = st.text_input(\"Enter Jawi Text:\")\n",
    "\n",
    "# Translate button\n",
    "if st.button(\"Translate\"):\n",
    "    if input_text:\n",
    "        translation = translate_text(input_text)\n",
    "        st.success(\"Translation:\")\n",
    "        st.write(translation)\n",
    "    else:\n",
    "        st.warning(\"Please enter some text to translate.\")"
   ]
  }
 ],
 "metadata": {
  "kernelspec": {
   "display_name": "torch",
   "language": "python",
   "name": "python3"
  },
  "language_info": {
   "codemirror_mode": {
    "name": "ipython",
    "version": 3
   },
   "file_extension": ".py",
   "mimetype": "text/x-python",
   "name": "python",
   "nbconvert_exporter": "python",
   "pygments_lexer": "ipython3",
   "version": "3.11.5"
  }
 },
 "nbformat": 4,
 "nbformat_minor": 2
}
